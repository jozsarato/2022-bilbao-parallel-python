{
 "cells": [
  {
   "cell_type": "markdown",
   "id": "bb3a24c6",
   "metadata": {},
   "source": [
    "Let's go back to the authentication library you wrote in the beginning of the week. Before trying to authenticate a user, it's a good idea to first check whether an account with a given username exists. Here we mimick this check.\n",
    "\n",
    "First import `auth` and check the arguments and return value of the function `check_user_exists`."
   ]
  },
  {
   "cell_type": "code",
   "execution_count": 1,
   "id": "192019fe",
   "metadata": {},
   "outputs": [
    {
     "name": "stdout",
     "output_type": "stream",
     "text": [
      "Help on function check_user_exists in module auth:\n",
      "\n",
      "check_user_exists(username)\n",
      "    Check whether a user with `username` exists in the database.\n",
      "    \n",
      "    Parameters\n",
      "    ----------\n",
      "    username : str\n",
      "        Username to check.\n",
      "    \n",
      "    Returns\n",
      "    -------\n",
      "    bool\n",
      "        Whether the user exists in the database.\n",
      "\n"
     ]
    }
   ],
   "source": [
    "import auth\n",
    "help(auth.check_user_exists)"
   ]
  },
  {
   "cell_type": "markdown",
   "id": "91616f28",
   "metadata": {},
   "source": [
    "### Step 0\n",
    "Implement a serial version using `map`, processing several (4+) usernames. Time it."
   ]
  },
  {
   "cell_type": "code",
   "execution_count": 4,
   "id": "28f7f9fb",
   "metadata": {},
   "outputs": [
    {
     "name": "stdout",
     "output_type": "stream",
     "text": [
      ".................................[False, False, False, False, False]\n",
      "CPU times: user 36 ms, sys: 11 ms, total: 46.9 ms\n",
      "Wall time: 33.1 s\n"
     ]
    }
   ],
   "source": [
    "%%time\n",
    "usernames = [\"Karla\", \"Jozsef\", \"April\", \"Magda\", \"Royal_Lizzie\"]  # TODO add some usernames\n",
    "# TODO implement a serial version\n",
    "\n",
    "check = []\n",
    "for user in usernames:\n",
    "    check.append(auth.check_user_exists(user))\n",
    "\n",
    "print(check)"
   ]
  },
  {
   "cell_type": "code",
   "execution_count": 10,
   "id": "522cd7e3",
   "metadata": {},
   "outputs": [
    {
     "name": "stdout",
     "output_type": "stream",
     "text": [
      ".................................CPU times: user 37.3 ms, sys: 14.1 ms, total: 51.4 ms\n",
      "Wall time: 33.1 s\n"
     ]
    },
    {
     "data": {
      "text/plain": [
       "[False, False, False, False, False]"
      ]
     },
     "execution_count": 10,
     "metadata": {},
     "output_type": "execute_result"
    }
   ],
   "source": [
    "%%time\n",
    "list(map(auth.check_user_exists, usernames))"
   ]
  },
  {
   "cell_type": "markdown",
   "id": "2dbda9fc",
   "metadata": {},
   "source": [
    "### Step 1\n",
    "Use the `ThreadPool` to parallelize your code. Time it and compare execution times."
   ]
  },
  {
   "cell_type": "code",
   "execution_count": 8,
   "id": "54f45ec7",
   "metadata": {},
   "outputs": [],
   "source": [
    "from multiprocessing.pool import ThreadPool"
   ]
  },
  {
   "cell_type": "code",
   "execution_count": 9,
   "id": "9d86ecd1",
   "metadata": {},
   "outputs": [
    {
     "name": "stdout",
     "output_type": "stream",
     "text": [
      ".................................[False, False, False, False, False]\n",
      "CPU times: user 34.4 ms, sys: 13.4 ms, total: 47.8 ms\n",
      "Wall time: 17 s\n"
     ]
    }
   ],
   "source": [
    "%%time\n",
    "# TODO implement a thread-parallel version\n",
    "with ThreadPool(processes = 4) as pool:\n",
    "    result = pool.map(auth.check_user_exists, usernames)\n",
    "print(result)"
   ]
  },
  {
   "cell_type": "code",
   "execution_count": 11,
   "id": "539eeab0",
   "metadata": {},
   "outputs": [
    {
     "name": "stdout",
     "output_type": "stream",
     "text": [
      ".................................[False, False, False, False, False]\n",
      "CPU times: user 37.2 ms, sys: 10 ms, total: 47.2 ms\n",
      "Wall time: 22 s\n"
     ]
    }
   ],
   "source": [
    "%%time\n",
    "# TODO implement a thread-parallel version\n",
    "with ThreadPool(processes = 2) as pool:\n",
    "    result = pool.map(auth.check_user_exists, usernames)\n",
    "print(result)"
   ]
  },
  {
   "cell_type": "code",
   "execution_count": null,
   "id": "c2cdf07f",
   "metadata": {},
   "outputs": [],
   "source": [
    "from multiprocessing.pool import Pool as ProcessPool\n"
   ]
  }
 ],
 "metadata": {
  "kernelspec": {
   "display_name": "Python 3 (ipykernel)",
   "language": "python",
   "name": "python3"
  },
  "language_info": {
   "codemirror_mode": {
    "name": "ipython",
    "version": 3
   },
   "file_extension": ".py",
   "mimetype": "text/x-python",
   "name": "python",
   "nbconvert_exporter": "python",
   "pygments_lexer": "ipython3",
   "version": "3.10.6"
  }
 },
 "nbformat": 4,
 "nbformat_minor": 5
}
